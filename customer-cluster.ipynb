{
 "cells": [
  {
   "cell_type": "markdown",
   "id": "e758b241",
   "metadata": {},
   "source": [
    "# Introduction"
   ]
  },
  {
   "cell_type": "code",
   "execution_count": null,
   "id": "55d012fc",
   "metadata": {},
   "outputs": [],
   "source": []
  },
  {
   "cell_type": "markdown",
   "id": "aa55db03",
   "metadata": {},
   "source": [
    "# About the data"
   ]
  },
  {
   "cell_type": "code",
   "execution_count": null,
   "id": "b98ba34b",
   "metadata": {},
   "outputs": [],
   "source": []
  },
  {
   "cell_type": "markdown",
   "id": "bce527db",
   "metadata": {},
   "source": [
    "Column | Description\n",
    "-----------|-------------------\n",
    "ID | Unique ID.\n",
    "Gender | Gender of the customer\n",
    "Ever_Married | Marital status of the customer.\n",
    "Age | Age of the customer.\n",
    "Graduated | Is the customer a graduate?\n",
    "Profession | Profession of the customer.\n",
    "Work_Experience | Work Experience in years.\n",
    "Spending_Score | Spending score of the customer.\n",
    "Family_Size | Number of family members for the customer (including the customer).\n",
    "Var_1 | Anonymised Category for the customer.\n",
    "Segmentation | Customer Segment of the customer (Target for Classification).\n"
   ]
  },
  {
   "cell_type": "markdown",
   "id": "a7cd8bb3",
   "metadata": {},
   "source": [
    "# Business question and evaluation"
   ]
  },
  {
   "cell_type": "code",
   "execution_count": null,
   "id": "d728d1fe",
   "metadata": {},
   "outputs": [],
   "source": []
  },
  {
   "cell_type": "markdown",
   "id": "cc855e63",
   "metadata": {},
   "source": [
    "# Importing and exploring data"
   ]
  },
  {
   "cell_type": "code",
   "execution_count": 1,
   "id": "3acebfaf",
   "metadata": {
    "ExecuteTime": {
     "end_time": "2023-02-22T15:05:49.575859Z",
     "start_time": "2023-02-22T15:05:48.267652Z"
    }
   },
   "outputs": [],
   "source": [
    "# Importing\n",
    "\n",
    "import pandas as pd\n",
    "import seaborn as sns\n",
    "import matplotlib.pyplot as plt\n",
    "import numpy as np\n",
    "from sklearn.compose import ColumnTransformer\n",
    "from sklearn.preprocessing import OneHotEncoder\n",
    "from sklearn.preprocessing import OrdinalEncoder\n",
    "from sklearn.preprocessing import StandardScaler"
   ]
  },
  {
   "cell_type": "code",
   "execution_count": 2,
   "id": "8338e262",
   "metadata": {
    "ExecuteTime": {
     "end_time": "2023-02-22T15:05:49.616851Z",
     "start_time": "2023-02-22T15:05:49.579833Z"
    },
    "scrolled": false
   },
   "outputs": [
    {
     "data": {
      "text/html": [
       "<div>\n",
       "<style scoped>\n",
       "    .dataframe tbody tr th:only-of-type {\n",
       "        vertical-align: middle;\n",
       "    }\n",
       "\n",
       "    .dataframe tbody tr th {\n",
       "        vertical-align: top;\n",
       "    }\n",
       "\n",
       "    .dataframe thead th {\n",
       "        text-align: right;\n",
       "    }\n",
       "</style>\n",
       "<table border=\"1\" class=\"dataframe\">\n",
       "  <thead>\n",
       "    <tr style=\"text-align: right;\">\n",
       "      <th></th>\n",
       "      <th>ID</th>\n",
       "      <th>Gender</th>\n",
       "      <th>Ever_Married</th>\n",
       "      <th>Age</th>\n",
       "      <th>Graduated</th>\n",
       "      <th>Profession</th>\n",
       "      <th>Work_Experience</th>\n",
       "      <th>Spending_Score</th>\n",
       "      <th>Family_Size</th>\n",
       "      <th>Var_1</th>\n",
       "      <th>Segmentation</th>\n",
       "    </tr>\n",
       "  </thead>\n",
       "  <tbody>\n",
       "    <tr>\n",
       "      <th>0</th>\n",
       "      <td>462809</td>\n",
       "      <td>Male</td>\n",
       "      <td>No</td>\n",
       "      <td>22</td>\n",
       "      <td>No</td>\n",
       "      <td>Healthcare</td>\n",
       "      <td>1.0</td>\n",
       "      <td>Low</td>\n",
       "      <td>4.0</td>\n",
       "      <td>Cat_4</td>\n",
       "      <td>D</td>\n",
       "    </tr>\n",
       "    <tr>\n",
       "      <th>1</th>\n",
       "      <td>462643</td>\n",
       "      <td>Female</td>\n",
       "      <td>Yes</td>\n",
       "      <td>38</td>\n",
       "      <td>Yes</td>\n",
       "      <td>Engineer</td>\n",
       "      <td>NaN</td>\n",
       "      <td>Average</td>\n",
       "      <td>3.0</td>\n",
       "      <td>Cat_4</td>\n",
       "      <td>A</td>\n",
       "    </tr>\n",
       "    <tr>\n",
       "      <th>2</th>\n",
       "      <td>466315</td>\n",
       "      <td>Female</td>\n",
       "      <td>Yes</td>\n",
       "      <td>67</td>\n",
       "      <td>Yes</td>\n",
       "      <td>Engineer</td>\n",
       "      <td>1.0</td>\n",
       "      <td>Low</td>\n",
       "      <td>1.0</td>\n",
       "      <td>Cat_6</td>\n",
       "      <td>B</td>\n",
       "    </tr>\n",
       "    <tr>\n",
       "      <th>3</th>\n",
       "      <td>461735</td>\n",
       "      <td>Male</td>\n",
       "      <td>Yes</td>\n",
       "      <td>67</td>\n",
       "      <td>Yes</td>\n",
       "      <td>Lawyer</td>\n",
       "      <td>0.0</td>\n",
       "      <td>High</td>\n",
       "      <td>2.0</td>\n",
       "      <td>Cat_6</td>\n",
       "      <td>B</td>\n",
       "    </tr>\n",
       "    <tr>\n",
       "      <th>4</th>\n",
       "      <td>462669</td>\n",
       "      <td>Female</td>\n",
       "      <td>Yes</td>\n",
       "      <td>40</td>\n",
       "      <td>Yes</td>\n",
       "      <td>Entertainment</td>\n",
       "      <td>NaN</td>\n",
       "      <td>High</td>\n",
       "      <td>6.0</td>\n",
       "      <td>Cat_6</td>\n",
       "      <td>A</td>\n",
       "    </tr>\n",
       "  </tbody>\n",
       "</table>\n",
       "</div>"
      ],
      "text/plain": [
       "       ID  Gender Ever_Married  Age Graduated     Profession  Work_Experience  \\\n",
       "0  462809    Male           No   22        No     Healthcare              1.0   \n",
       "1  462643  Female          Yes   38       Yes       Engineer              NaN   \n",
       "2  466315  Female          Yes   67       Yes       Engineer              1.0   \n",
       "3  461735    Male          Yes   67       Yes         Lawyer              0.0   \n",
       "4  462669  Female          Yes   40       Yes  Entertainment              NaN   \n",
       "\n",
       "  Spending_Score  Family_Size  Var_1 Segmentation  \n",
       "0            Low          4.0  Cat_4            D  \n",
       "1        Average          3.0  Cat_4            A  \n",
       "2            Low          1.0  Cat_6            B  \n",
       "3           High          2.0  Cat_6            B  \n",
       "4           High          6.0  Cat_6            A  "
      ]
     },
     "execution_count": 2,
     "metadata": {},
     "output_type": "execute_result"
    }
   ],
   "source": [
    "# Loading data\n",
    "\n",
    "data = pd.read_csv('data/Train.csv')\n",
    "data.head()"
   ]
  },
  {
   "cell_type": "code",
   "execution_count": 3,
   "id": "6402d5b8",
   "metadata": {
    "ExecuteTime": {
     "end_time": "2023-02-22T15:05:49.631552Z",
     "start_time": "2023-02-22T15:05:49.619367Z"
    }
   },
   "outputs": [
    {
     "data": {
      "text/plain": [
       "(8068, 11)"
      ]
     },
     "execution_count": 3,
     "metadata": {},
     "output_type": "execute_result"
    }
   ],
   "source": [
    "# Shape\n",
    "\n",
    "data.shape"
   ]
  },
  {
   "cell_type": "markdown",
   "id": "c45d77f0",
   "metadata": {},
   "source": [
    "> 8068 instances and 11 features. Its a reasonable sized dataset."
   ]
  },
  {
   "cell_type": "code",
   "execution_count": 4,
   "id": "25c9fbe6",
   "metadata": {
    "ExecuteTime": {
     "end_time": "2023-02-22T15:05:49.653338Z",
     "start_time": "2023-02-22T15:05:49.636934Z"
    }
   },
   "outputs": [
    {
     "data": {
      "text/plain": [
       "0"
      ]
     },
     "execution_count": 4,
     "metadata": {},
     "output_type": "execute_result"
    }
   ],
   "source": [
    "# Check for duplicates\n",
    "\n",
    "data.duplicated().sum()"
   ]
  },
  {
   "cell_type": "markdown",
   "id": "83b810a4",
   "metadata": {},
   "source": [
    "We won't need the `ID` anymore. Furthermore, since we're clustering, we can also drop `Var_1` and `Segmentation`."
   ]
  },
  {
   "cell_type": "code",
   "execution_count": 5,
   "id": "62cece9e",
   "metadata": {
    "ExecuteTime": {
     "end_time": "2023-02-22T15:05:49.675088Z",
     "start_time": "2023-02-22T15:05:49.655769Z"
    }
   },
   "outputs": [
    {
     "data": {
      "text/html": [
       "<div>\n",
       "<style scoped>\n",
       "    .dataframe tbody tr th:only-of-type {\n",
       "        vertical-align: middle;\n",
       "    }\n",
       "\n",
       "    .dataframe tbody tr th {\n",
       "        vertical-align: top;\n",
       "    }\n",
       "\n",
       "    .dataframe thead th {\n",
       "        text-align: right;\n",
       "    }\n",
       "</style>\n",
       "<table border=\"1\" class=\"dataframe\">\n",
       "  <thead>\n",
       "    <tr style=\"text-align: right;\">\n",
       "      <th></th>\n",
       "      <th>Gender</th>\n",
       "      <th>Ever_Married</th>\n",
       "      <th>Age</th>\n",
       "      <th>Graduated</th>\n",
       "      <th>Profession</th>\n",
       "      <th>Work_Experience</th>\n",
       "      <th>Spending_Score</th>\n",
       "      <th>Family_Size</th>\n",
       "    </tr>\n",
       "  </thead>\n",
       "  <tbody>\n",
       "    <tr>\n",
       "      <th>0</th>\n",
       "      <td>Male</td>\n",
       "      <td>No</td>\n",
       "      <td>22</td>\n",
       "      <td>No</td>\n",
       "      <td>Healthcare</td>\n",
       "      <td>1.0</td>\n",
       "      <td>Low</td>\n",
       "      <td>4.0</td>\n",
       "    </tr>\n",
       "    <tr>\n",
       "      <th>1</th>\n",
       "      <td>Female</td>\n",
       "      <td>Yes</td>\n",
       "      <td>38</td>\n",
       "      <td>Yes</td>\n",
       "      <td>Engineer</td>\n",
       "      <td>NaN</td>\n",
       "      <td>Average</td>\n",
       "      <td>3.0</td>\n",
       "    </tr>\n",
       "    <tr>\n",
       "      <th>2</th>\n",
       "      <td>Female</td>\n",
       "      <td>Yes</td>\n",
       "      <td>67</td>\n",
       "      <td>Yes</td>\n",
       "      <td>Engineer</td>\n",
       "      <td>1.0</td>\n",
       "      <td>Low</td>\n",
       "      <td>1.0</td>\n",
       "    </tr>\n",
       "    <tr>\n",
       "      <th>3</th>\n",
       "      <td>Male</td>\n",
       "      <td>Yes</td>\n",
       "      <td>67</td>\n",
       "      <td>Yes</td>\n",
       "      <td>Lawyer</td>\n",
       "      <td>0.0</td>\n",
       "      <td>High</td>\n",
       "      <td>2.0</td>\n",
       "    </tr>\n",
       "    <tr>\n",
       "      <th>4</th>\n",
       "      <td>Female</td>\n",
       "      <td>Yes</td>\n",
       "      <td>40</td>\n",
       "      <td>Yes</td>\n",
       "      <td>Entertainment</td>\n",
       "      <td>NaN</td>\n",
       "      <td>High</td>\n",
       "      <td>6.0</td>\n",
       "    </tr>\n",
       "  </tbody>\n",
       "</table>\n",
       "</div>"
      ],
      "text/plain": [
       "   Gender Ever_Married  Age Graduated     Profession  Work_Experience  \\\n",
       "0    Male           No   22        No     Healthcare              1.0   \n",
       "1  Female          Yes   38       Yes       Engineer              NaN   \n",
       "2  Female          Yes   67       Yes       Engineer              1.0   \n",
       "3    Male          Yes   67       Yes         Lawyer              0.0   \n",
       "4  Female          Yes   40       Yes  Entertainment              NaN   \n",
       "\n",
       "  Spending_Score  Family_Size  \n",
       "0            Low          4.0  \n",
       "1        Average          3.0  \n",
       "2            Low          1.0  \n",
       "3           High          2.0  \n",
       "4           High          6.0  "
      ]
     },
     "execution_count": 5,
     "metadata": {},
     "output_type": "execute_result"
    }
   ],
   "source": [
    "# Drop columns we won't use\n",
    "\n",
    "df = data.drop(['ID', 'Var_1', 'Segmentation'], axis=1)\n",
    "df.head()"
   ]
  },
  {
   "cell_type": "code",
   "execution_count": 6,
   "id": "643462e3",
   "metadata": {
    "ExecuteTime": {
     "end_time": "2023-02-22T15:05:49.724663Z",
     "start_time": "2023-02-22T15:05:49.677116Z"
    },
    "scrolled": true
   },
   "outputs": [
    {
     "name": "stdout",
     "output_type": "stream",
     "text": [
      "<class 'pandas.core.frame.DataFrame'>\n",
      "RangeIndex: 8068 entries, 0 to 8067\n",
      "Data columns (total 8 columns):\n",
      " #   Column           Non-Null Count  Dtype  \n",
      "---  ------           --------------  -----  \n",
      " 0   Gender           8068 non-null   object \n",
      " 1   Ever_Married     7928 non-null   object \n",
      " 2   Age              8068 non-null   int64  \n",
      " 3   Graduated        7990 non-null   object \n",
      " 4   Profession       7944 non-null   object \n",
      " 5   Work_Experience  7239 non-null   float64\n",
      " 6   Spending_Score   8068 non-null   object \n",
      " 7   Family_Size      7733 non-null   float64\n",
      "dtypes: float64(2), int64(1), object(5)\n",
      "memory usage: 504.4+ KB\n"
     ]
    }
   ],
   "source": [
    "df.info()"
   ]
  },
  {
   "cell_type": "code",
   "execution_count": 7,
   "id": "e178deb6",
   "metadata": {
    "ExecuteTime": {
     "end_time": "2023-02-22T15:05:49.757624Z",
     "start_time": "2023-02-22T15:05:49.727364Z"
    }
   },
   "outputs": [
    {
     "data": {
      "text/plain": [
       "Gender               0\n",
       "Ever_Married       140\n",
       "Age                  0\n",
       "Graduated           78\n",
       "Profession         124\n",
       "Work_Experience    829\n",
       "Spending_Score       0\n",
       "Family_Size        335\n",
       "dtype: int64"
      ]
     },
     "execution_count": 7,
     "metadata": {},
     "output_type": "execute_result"
    }
   ],
   "source": [
    "df.isna().sum()"
   ]
  },
  {
   "cell_type": "code",
   "execution_count": 8,
   "id": "b0e3304d",
   "metadata": {
    "ExecuteTime": {
     "end_time": "2023-02-22T15:05:49.797853Z",
     "start_time": "2023-02-22T15:05:49.760780Z"
    },
    "scrolled": false
   },
   "outputs": [
    {
     "data": {
      "text/html": [
       "<div>\n",
       "<style scoped>\n",
       "    .dataframe tbody tr th:only-of-type {\n",
       "        vertical-align: middle;\n",
       "    }\n",
       "\n",
       "    .dataframe tbody tr th {\n",
       "        vertical-align: top;\n",
       "    }\n",
       "\n",
       "    .dataframe thead th {\n",
       "        text-align: right;\n",
       "    }\n",
       "</style>\n",
       "<table border=\"1\" class=\"dataframe\">\n",
       "  <thead>\n",
       "    <tr style=\"text-align: right;\">\n",
       "      <th></th>\n",
       "      <th>Age</th>\n",
       "      <th>Work_Experience</th>\n",
       "      <th>Family_Size</th>\n",
       "    </tr>\n",
       "  </thead>\n",
       "  <tbody>\n",
       "    <tr>\n",
       "      <th>count</th>\n",
       "      <td>8068.000000</td>\n",
       "      <td>7239.000000</td>\n",
       "      <td>7733.000000</td>\n",
       "    </tr>\n",
       "    <tr>\n",
       "      <th>mean</th>\n",
       "      <td>43.466906</td>\n",
       "      <td>2.641663</td>\n",
       "      <td>2.850123</td>\n",
       "    </tr>\n",
       "    <tr>\n",
       "      <th>std</th>\n",
       "      <td>16.711696</td>\n",
       "      <td>3.406763</td>\n",
       "      <td>1.531413</td>\n",
       "    </tr>\n",
       "    <tr>\n",
       "      <th>min</th>\n",
       "      <td>18.000000</td>\n",
       "      <td>0.000000</td>\n",
       "      <td>1.000000</td>\n",
       "    </tr>\n",
       "    <tr>\n",
       "      <th>25%</th>\n",
       "      <td>30.000000</td>\n",
       "      <td>0.000000</td>\n",
       "      <td>2.000000</td>\n",
       "    </tr>\n",
       "    <tr>\n",
       "      <th>50%</th>\n",
       "      <td>40.000000</td>\n",
       "      <td>1.000000</td>\n",
       "      <td>3.000000</td>\n",
       "    </tr>\n",
       "    <tr>\n",
       "      <th>75%</th>\n",
       "      <td>53.000000</td>\n",
       "      <td>4.000000</td>\n",
       "      <td>4.000000</td>\n",
       "    </tr>\n",
       "    <tr>\n",
       "      <th>max</th>\n",
       "      <td>89.000000</td>\n",
       "      <td>14.000000</td>\n",
       "      <td>9.000000</td>\n",
       "    </tr>\n",
       "  </tbody>\n",
       "</table>\n",
       "</div>"
      ],
      "text/plain": [
       "               Age  Work_Experience  Family_Size\n",
       "count  8068.000000      7239.000000  7733.000000\n",
       "mean     43.466906         2.641663     2.850123\n",
       "std      16.711696         3.406763     1.531413\n",
       "min      18.000000         0.000000     1.000000\n",
       "25%      30.000000         0.000000     2.000000\n",
       "50%      40.000000         1.000000     3.000000\n",
       "75%      53.000000         4.000000     4.000000\n",
       "max      89.000000        14.000000     9.000000"
      ]
     },
     "execution_count": 8,
     "metadata": {},
     "output_type": "execute_result"
    }
   ],
   "source": [
    "df.describe()"
   ]
  },
  {
   "cell_type": "markdown",
   "id": "c34d768d",
   "metadata": {},
   "source": [
    "Since our objective is to characterize our clients, it's wise to don't bring any assumptions and impute the missing values. Instead, I'll only use complete data."
   ]
  },
  {
   "cell_type": "code",
   "execution_count": 9,
   "id": "4f08745e",
   "metadata": {
    "ExecuteTime": {
     "end_time": "2023-02-22T15:05:49.833852Z",
     "start_time": "2023-02-22T15:05:49.805993Z"
    },
    "scrolled": true
   },
   "outputs": [
    {
     "data": {
      "text/plain": [
       "Gender             0\n",
       "Ever_Married       0\n",
       "Age                0\n",
       "Graduated          0\n",
       "Profession         0\n",
       "Work_Experience    0\n",
       "Spending_Score     0\n",
       "Family_Size        0\n",
       "dtype: int64"
      ]
     },
     "execution_count": 9,
     "metadata": {},
     "output_type": "execute_result"
    }
   ],
   "source": [
    "df_dropna = df.dropna()\n",
    "df_dropna.isna().sum()"
   ]
  },
  {
   "cell_type": "markdown",
   "id": "c797ee43",
   "metadata": {},
   "source": [
    "# EDA"
   ]
  },
  {
   "cell_type": "code",
   "execution_count": 10,
   "id": "1a2ea7d8",
   "metadata": {
    "ExecuteTime": {
     "end_time": "2023-02-22T15:05:50.108171Z",
     "start_time": "2023-02-22T15:05:49.841168Z"
    }
   },
   "outputs": [
    {
     "data": {
      "image/png": "[encoded data removed]",
      "text/plain": [
       "<Figure size 300x300 with 1 Axes>"
      ]
     },
     "metadata": {},
     "output_type": "display_data"
    }
   ],
   "source": [
    "plt.figure(figsize=(3,3))\n",
    "sns.countplot(df_dropna, x='Gender');"
   ]
  },
  {
   "cell_type": "code",
   "execution_count": 11,
   "id": "02116623",
   "metadata": {
    "ExecuteTime": {
     "end_time": "2023-02-22T15:05:50.321471Z",
     "start_time": "2023-02-22T15:05:50.110972Z"
    }
   },
   "outputs": [
    {
     "data": {
      "image/png": "[encoded data removed]",
      "text/plain": [
       "<Figure size 300x300 with 1 Axes>"
      ]
     },
     "metadata": {},
     "output_type": "display_data"
    }
   ],
   "source": [
    "plt.figure(figsize=(3,3))\n",
    "sns.countplot(df_dropna, x='Ever_Married');"
   ]
  },
  {
   "cell_type": "code",
   "execution_count": 12,
   "id": "924eb40b",
   "metadata": {
    "ExecuteTime": {
     "end_time": "2023-02-22T15:05:50.614516Z",
     "start_time": "2023-02-22T15:05:50.323990Z"
    }
   },
   "outputs": [
    {
     "data": {
      "image/png": "[encoded data removed]",
      "text/plain": [
       "<Figure size 300x300 with 1 Axes>"
      ]
     },
     "metadata": {},
     "output_type": "display_data"
    }
   ],
   "source": [
    "plt.figure(figsize=(3,3))\n",
    "sns.histplot(df_dropna, x='Age');"
   ]
  },
  {
   "cell_type": "code",
   "execution_count": 13,
   "id": "4a53d5e3",
   "metadata": {
    "ExecuteTime": {
     "end_time": "2023-02-22T15:05:50.813292Z",
     "start_time": "2023-02-22T15:05:50.619378Z"
    }
   },
   "outputs": [
    {
     "data": {
      "image/png": "[encoded data removed]",
      "text/plain": [
       "<Figure size 300x300 with 1 Axes>"
      ]
     },
     "metadata": {},
     "output_type": "display_data"
    }
   ],
   "source": [
    "plt.figure(figsize=(3,3))\n",
    "sns.countplot(df_dropna, x='Graduated');"
   ]
  },
  {
   "cell_type": "code",
   "execution_count": 14,
   "id": "c39b45df",
   "metadata": {
    "ExecuteTime": {
     "end_time": "2023-02-22T15:05:51.054418Z",
     "start_time": "2023-02-22T15:05:50.815380Z"
    },
    "scrolled": false
   },
   "outputs": [
    {
     "data": {
      "image/png": "[encoded data removed]",
      "text/plain": [
       "<Figure size 800x300 with 1 Axes>"
      ]
     },
     "metadata": {},
     "output_type": "display_data"
    }
   ],
   "source": [
    "plt.figure(figsize=(8,3))\n",
    "chart = sns.countplot(df_dropna, x='Profession', order=)\n",
    "chart.set_xticklabels(chart.get_xticklabels(), rotation=45)\n",
    "plt.show()"
   ]
  },
  {
   "cell_type": "code",
   "execution_count": 15,
   "id": "57117f3d",
   "metadata": {
    "ExecuteTime": {
     "end_time": "2023-02-22T15:05:51.059754Z",
     "start_time": "2023-02-22T15:05:51.056331Z"
    }
   },
   "outputs": [],
   "source": [
    "# Plot it in order"
   ]
  },
  {
   "cell_type": "code",
   "execution_count": 16,
   "id": "a6c9013e",
   "metadata": {
    "ExecuteTime": {
     "end_time": "2023-02-22T15:05:51.320429Z",
     "start_time": "2023-02-22T15:05:51.063546Z"
    }
   },
   "outputs": [
    {
     "data": {
      "image/png": "[encoded data removed]",
      "text/plain": [
       "<Figure size 300x300 with 1 Axes>"
      ]
     },
     "metadata": {},
     "output_type": "display_data"
    }
   ],
   "source": [
    "plt.figure(figsize=(3,3))\n",
    "sns.histplot(df_dropna, x='Work_Experience', discrete=True);"
   ]
  },
  {
   "cell_type": "code",
   "execution_count": 17,
   "id": "63506d34",
   "metadata": {
    "ExecuteTime": {
     "end_time": "2023-02-22T15:05:51.526192Z",
     "start_time": "2023-02-22T15:05:51.325057Z"
    }
   },
   "outputs": [
    {
     "data": {
      "image/png": "[encoded data removed]",
      "text/plain": [
       "<Figure size 300x300 with 1 Axes>"
      ]
     },
     "metadata": {},
     "output_type": "display_data"
    }
   ],
   "source": [
    "plt.figure(figsize=(3,3))\n",
    "sns.countplot(df_dropna, x='Spending_Score');"
   ]
  },
  {
   "cell_type": "code",
   "execution_count": 18,
   "id": "2e36eb3e",
   "metadata": {
    "ExecuteTime": {
     "end_time": "2023-02-22T15:05:51.798533Z",
     "start_time": "2023-02-22T15:05:51.530019Z"
    },
    "scrolled": true
   },
   "outputs": [
    {
     "data": {
      "image/png": "[encoded data removed]",
      "text/plain": [
       "<Figure size 300x300 with 1 Axes>"
      ]
     },
     "metadata": {},
     "output_type": "display_data"
    }
   ],
   "source": [
    "plt.figure(figsize=(3,3))\n",
    "sns.histplot(df_dropna, x='Family_Size', discrete=True);"
   ]
  },
  {
   "cell_type": "markdown",
   "id": "04baaf23",
   "metadata": {},
   "source": [
    "# Treatment"
   ]
  },
  {
   "cell_type": "code",
   "execution_count": 19,
   "id": "c507f2e5",
   "metadata": {
    "ExecuteTime": {
     "end_time": "2023-02-22T15:05:51.813710Z",
     "start_time": "2023-02-22T15:05:51.802255Z"
    }
   },
   "outputs": [],
   "source": [
    "def get_indexes(df, cols):\n",
    "    df_cols = list(df.columns)\n",
    "    indexes = []\n",
    "    \n",
    "    for col in cols:\n",
    "        index = df_cols.index(col)\n",
    "        indexes.append(index)\n",
    "        \n",
    "    return indexes"
   ]
  },
  {
   "cell_type": "code",
   "execution_count": 20,
   "id": "92d61e52",
   "metadata": {
    "ExecuteTime": {
     "end_time": "2023-02-22T15:05:51.823343Z",
     "start_time": "2023-02-22T15:05:51.817539Z"
    }
   },
   "outputs": [],
   "source": [
    "# ohe_cols = ['Gender', 'Ever_Married', 'Graduated', 'Profession']\n",
    "# ord_cols = ['Spending_Score']\n",
    "# num_cols = ['Age', 'Work_Experience', 'Family_Size']\n",
    "# cat_cols = ohe_cols + ord_cols\n",
    "\n",
    "# ordinal_enc = OrdinalEncoder(categories=[['Low', 'Average', 'High']])\n",
    "# onehot_enc = OneHotEncoder(drop='first')\n",
    "# std_scaler = StandardScaler()\n",
    "\n",
    "# ct =  ColumnTransformer([('ordinal_enc', ordinal_enc, ord_cols),\n",
    "#                          ('onehot_enc', onehot_enc, onehot_cols),\n",
    "#                          ('std_scaler', std_scaler, num_cols)\n",
    "#                         ])\n",
    "\n",
    "# df_tr = ct.fit_transform(df_dropna)"
   ]
  },
  {
   "cell_type": "code",
   "execution_count": 21,
   "id": "7bcea900",
   "metadata": {
    "ExecuteTime": {
     "end_time": "2023-02-22T15:05:51.857034Z",
     "start_time": "2023-02-22T15:05:51.826098Z"
    }
   },
   "outputs": [
    {
     "data": {
      "text/html": [
       "<div>\n",
       "<style scoped>\n",
       "    .dataframe tbody tr th:only-of-type {\n",
       "        vertical-align: middle;\n",
       "    }\n",
       "\n",
       "    .dataframe tbody tr th {\n",
       "        vertical-align: top;\n",
       "    }\n",
       "\n",
       "    .dataframe thead th {\n",
       "        text-align: right;\n",
       "    }\n",
       "</style>\n",
       "<table border=\"1\" class=\"dataframe\">\n",
       "  <thead>\n",
       "    <tr style=\"text-align: right;\">\n",
       "      <th></th>\n",
       "      <th>Age</th>\n",
       "      <th>Work_Experience</th>\n",
       "      <th>Family_Size</th>\n",
       "      <th>Gender</th>\n",
       "      <th>Ever_Married</th>\n",
       "      <th>Graduated</th>\n",
       "      <th>Profession</th>\n",
       "      <th>Spending_Score</th>\n",
       "    </tr>\n",
       "  </thead>\n",
       "  <tbody>\n",
       "    <tr>\n",
       "      <th>0</th>\n",
       "      <td>-1.303562</td>\n",
       "      <td>-0.478692</td>\n",
       "      <td>0.760391</td>\n",
       "      <td>Male</td>\n",
       "      <td>No</td>\n",
       "      <td>No</td>\n",
       "      <td>Healthcare</td>\n",
       "      <td>Low</td>\n",
       "    </tr>\n",
       "    <tr>\n",
       "      <th>2</th>\n",
       "      <td>1.421748</td>\n",
       "      <td>-0.478692</td>\n",
       "      <td>-1.20914</td>\n",
       "      <td>Female</td>\n",
       "      <td>Yes</td>\n",
       "      <td>Yes</td>\n",
       "      <td>Engineer</td>\n",
       "      <td>Low</td>\n",
       "    </tr>\n",
       "    <tr>\n",
       "      <th>3</th>\n",
       "      <td>1.421748</td>\n",
       "      <td>-0.772431</td>\n",
       "      <td>-0.55263</td>\n",
       "      <td>Male</td>\n",
       "      <td>Yes</td>\n",
       "      <td>Yes</td>\n",
       "      <td>Lawyer</td>\n",
       "      <td>High</td>\n",
       "    </tr>\n",
       "    <tr>\n",
       "      <th>5</th>\n",
       "      <td>0.755561</td>\n",
       "      <td>-0.772431</td>\n",
       "      <td>-0.55263</td>\n",
       "      <td>Male</td>\n",
       "      <td>Yes</td>\n",
       "      <td>No</td>\n",
       "      <td>Artist</td>\n",
       "      <td>Average</td>\n",
       "    </tr>\n",
       "    <tr>\n",
       "      <th>6</th>\n",
       "      <td>-0.697937</td>\n",
       "      <td>-0.478692</td>\n",
       "      <td>0.103881</td>\n",
       "      <td>Male</td>\n",
       "      <td>No</td>\n",
       "      <td>Yes</td>\n",
       "      <td>Healthcare</td>\n",
       "      <td>Low</td>\n",
       "    </tr>\n",
       "  </tbody>\n",
       "</table>\n",
       "</div>"
      ],
      "text/plain": [
       "        Age Work_Experience Family_Size  Gender Ever_Married Graduated  \\\n",
       "0 -1.303562       -0.478692    0.760391    Male           No        No   \n",
       "2  1.421748       -0.478692    -1.20914  Female          Yes       Yes   \n",
       "3  1.421748       -0.772431    -0.55263    Male          Yes       Yes   \n",
       "5  0.755561       -0.772431    -0.55263    Male          Yes        No   \n",
       "6 -0.697937       -0.478692    0.103881    Male           No       Yes   \n",
       "\n",
       "   Profession Spending_Score  \n",
       "0  Healthcare            Low  \n",
       "2    Engineer            Low  \n",
       "3      Lawyer           High  \n",
       "5      Artist        Average  \n",
       "6  Healthcare            Low  "
      ]
     },
     "execution_count": 21,
     "metadata": {},
     "output_type": "execute_result"
    }
   ],
   "source": [
    "cat_cols = ['Gender', 'Ever_Married', 'Graduated', 'Profession', 'Spending_Score']\n",
    "num_cols = ['Age', 'Work_Experience', 'Family_Size']\n",
    "\n",
    "ct =  ColumnTransformer([('std_scaler', StandardScaler(), num_cols)], remainder='passthrough')\n",
    "\n",
    "df_tr = pd.DataFrame(ct.fit_transform(df_dropna), index=df_dropna.index, columns=num_cols+cat_cols)\n",
    "df_tr.head()"
   ]
  },
  {
   "cell_type": "markdown",
   "id": "5fe5c1df",
   "metadata": {},
   "source": [
    "# Clustering"
   ]
  },
  {
   "cell_type": "markdown",
   "id": "0e9dc076",
   "metadata": {
    "ExecuteTime": {
     "end_time": "2023-02-21T21:29:43.485302Z",
     "start_time": "2023-02-21T21:28:20.328414Z"
    }
   },
   "source": [
    "## Finding k by elbow method"
   ]
  },
  {
   "cell_type": "code",
   "execution_count": 37,
   "id": "a1c15ca8",
   "metadata": {
    "ExecuteTime": {
     "end_time": "2023-02-22T15:09:42.149695Z",
     "start_time": "2023-02-22T15:09:42.144024Z"
    }
   },
   "outputs": [],
   "source": [
    "# !pip install kmodes"
   ]
  },
  {
   "cell_type": "code",
   "execution_count": 45,
   "id": "5aebc84a",
   "metadata": {
    "ExecuteTime": {
     "end_time": "2023-02-22T15:24:44.108823Z",
     "start_time": "2023-02-22T15:24:44.105185Z"
    }
   },
   "outputs": [],
   "source": [
    "# from kmodes.kprototypes import KPrototypes\n",
    "\n",
    "# k_list = np.arange(1,9)\n",
    "# inertia_list = []\n",
    "\n",
    "# for k in k_list:\n",
    "#     kprototypes = KPrototypes(n_clusters=k, max_iter=100, init='Huang', n_init=25,\n",
    "#                               n_jobs=-1, random_state=42)\n",
    "#     kprototypes.fit(df_tr.to_numpy(), categorical=get_indexes(df_tr, cat_cols))\n",
    "#     inertia_list.append(kprototypes.cost_)"
   ]
  },
  {
   "cell_type": "code",
   "execution_count": 46,
   "id": "3f4625bb",
   "metadata": {
    "ExecuteTime": {
     "end_time": "2023-02-22T15:24:44.321453Z",
     "start_time": "2023-02-22T15:24:44.316060Z"
    }
   },
   "outputs": [],
   "source": [
    "k_list = np.arange(1,9)\n",
    "\n",
    "inertia_list = [27851.500000000106,\n",
    "                21540.113628510728,\n",
    "                16436.276660241074,\n",
    "                14167.043121648308,\n",
    "                12486.212367799326,\n",
    "                11475.714806273721,\n",
    "                10652.063586330649,\n",
    "                10146.0266997184\n",
    "               ]\n"
   ]
  },
  {
   "cell_type": "code",
   "execution_count": 47,
   "id": "68453ae7",
   "metadata": {
    "ExecuteTime": {
     "end_time": "2023-02-22T15:24:44.778751Z",
     "start_time": "2023-02-22T15:24:44.531595Z"
    },
    "scrolled": false
   },
   "outputs": [
    {
     "data": {
      "image/png": "[encoded data removed]",
      "text/plain": [
       "<Figure size 500x400 with 1 Axes>"
      ]
     },
     "metadata": {},
     "output_type": "display_data"
    }
   ],
   "source": [
    "plt.figure(figsize=(5,4))\n",
    "plt.plot(k_list, inertia_list)\n",
    "plt.xlabel('k')\n",
    "plt.ylabel('Inertia')\n",
    "plt.show()"
   ]
  },
  {
   "cell_type": "markdown",
   "id": "de6df9b2",
   "metadata": {},
   "source": [
    "> Best result around $k = 3$ or $k = 4$."
   ]
  },
  {
   "cell_type": "code",
   "execution_count": 48,
   "id": "33c9f9f0",
   "metadata": {
    "ExecuteTime": {
     "end_time": "2023-02-22T15:24:49.570795Z",
     "start_time": "2023-02-22T15:24:49.567300Z"
    }
   },
   "outputs": [],
   "source": [
    "# !pip install kneed"
   ]
  },
  {
   "cell_type": "code",
   "execution_count": 49,
   "id": "12e4938f",
   "metadata": {
    "ExecuteTime": {
     "end_time": "2023-02-22T15:24:49.996641Z",
     "start_time": "2023-02-22T15:24:49.988518Z"
    }
   },
   "outputs": [
    {
     "data": {
      "text/plain": [
       "3"
      ]
     },
     "execution_count": 49,
     "metadata": {},
     "output_type": "execute_result"
    }
   ],
   "source": [
    "from kneed import KneeLocator\n",
    "\n",
    "KneeLocator(x=k_list, y=inertia_list, S=0.1, curve='convex', direction='decreasing').elbow"
   ]
  },
  {
   "cell_type": "markdown",
   "id": "7ef19f22",
   "metadata": {},
   "source": [
    "> Again, $k=3$ sounds good."
   ]
  },
  {
   "cell_type": "markdown",
   "id": "c467f2ff",
   "metadata": {},
   "source": [
    "# Analysis of the clusters"
   ]
  },
  {
   "cell_type": "code",
   "execution_count": 146,
   "id": "aa34fdef",
   "metadata": {
    "ExecuteTime": {
     "end_time": "2023-02-22T16:26:30.407190Z",
     "start_time": "2023-02-22T16:20:19.293825Z"
    }
   },
   "outputs": [
    {
     "data": {
      "text/html": [
       "<style>#sk-container-id-3 {color: black;background-color: white;}#sk-container-id-3 pre{padding: 0;}#sk-container-id-3 div.sk-toggleable {background-color: white;}#sk-container-id-3 label.sk-toggleable__label {cursor: pointer;display: block;width: 100%;margin-bottom: 0;padding: 0.3em;box-sizing: border-box;text-align: center;}#sk-container-id-3 label.sk-toggleable__label-arrow:before {content: \"▸\";float: left;margin-right: 0.25em;color: #696969;}#sk-container-id-3 label.sk-toggleable__label-arrow:hover:before {color: black;}#sk-container-id-3 div.sk-estimator:hover label.sk-toggleable__label-arrow:before {color: black;}#sk-container-id-3 div.sk-toggleable__content {max-height: 0;max-width: 0;overflow: hidden;text-align: left;background-color: #f0f8ff;}#sk-container-id-3 div.sk-toggleable__content pre {margin: 0.2em;color: black;border-radius: 0.25em;background-color: #f0f8ff;}#sk-container-id-3 input.sk-toggleable__control:checked~div.sk-toggleable__content {max-height: 200px;max-width: 100%;overflow: auto;}#sk-container-id-3 input.sk-toggleable__control:checked~label.sk-toggleable__label-arrow:before {content: \"▾\";}#sk-container-id-3 div.sk-estimator input.sk-toggleable__control:checked~label.sk-toggleable__label {background-color: #d4ebff;}#sk-container-id-3 div.sk-label input.sk-toggleable__control:checked~label.sk-toggleable__label {background-color: #d4ebff;}#sk-container-id-3 input.sk-hidden--visually {border: 0;clip: rect(1px 1px 1px 1px);clip: rect(1px, 1px, 1px, 1px);height: 1px;margin: -1px;overflow: hidden;padding: 0;position: absolute;width: 1px;}#sk-container-id-3 div.sk-estimator {font-family: monospace;background-color: #f0f8ff;border: 1px dotted black;border-radius: 0.25em;box-sizing: border-box;margin-bottom: 0.5em;}#sk-container-id-3 div.sk-estimator:hover {background-color: #d4ebff;}#sk-container-id-3 div.sk-parallel-item::after {content: \"\";width: 100%;border-bottom: 1px solid gray;flex-grow: 1;}#sk-container-id-3 div.sk-label:hover label.sk-toggleable__label {background-color: #d4ebff;}#sk-container-id-3 div.sk-serial::before {content: \"\";position: absolute;border-left: 1px solid gray;box-sizing: border-box;top: 0;bottom: 0;left: 50%;z-index: 0;}#sk-container-id-3 div.sk-serial {display: flex;flex-direction: column;align-items: center;background-color: white;padding-right: 0.2em;padding-left: 0.2em;position: relative;}#sk-container-id-3 div.sk-item {position: relative;z-index: 1;}#sk-container-id-3 div.sk-parallel {display: flex;align-items: stretch;justify-content: center;background-color: white;position: relative;}#sk-container-id-3 div.sk-item::before, #sk-container-id-3 div.sk-parallel-item::before {content: \"\";position: absolute;border-left: 1px solid gray;box-sizing: border-box;top: 0;bottom: 0;left: 50%;z-index: -1;}#sk-container-id-3 div.sk-parallel-item {display: flex;flex-direction: column;z-index: 1;position: relative;background-color: white;}#sk-container-id-3 div.sk-parallel-item:first-child::after {align-self: flex-end;width: 50%;}#sk-container-id-3 div.sk-parallel-item:last-child::after {align-self: flex-start;width: 50%;}#sk-container-id-3 div.sk-parallel-item:only-child::after {width: 0;}#sk-container-id-3 div.sk-dashed-wrapped {border: 1px dashed gray;margin: 0 0.4em 0.5em 0.4em;box-sizing: border-box;padding-bottom: 0.4em;background-color: white;}#sk-container-id-3 div.sk-label label {font-family: monospace;font-weight: bold;display: inline-block;line-height: 1.2em;}#sk-container-id-3 div.sk-label-container {text-align: center;}#sk-container-id-3 div.sk-container {/* jupyter's `normalize.less` sets `[hidden] { display: none; }` but bootstrap.min.css set `[hidden] { display: none !important; }` so we also need the `!important` here to be able to override the default hidden behavior on the sphinx rendered scikit-learn.org. See: https://github.com/scikit-learn/scikit-learn/issues/21755 */display: inline-block !important;position: relative;}#sk-container-id-3 div.sk-text-repr-fallback {display: none;}</style><div id=\"sk-container-id-3\" class=\"sk-top-container\"><div class=\"sk-text-repr-fallback\"><pre>KPrototypes(gamma=0.5, init=&#x27;Huang&#x27;, max_iter=500, n_clusters=4, n_init=50,\n",
       "            n_jobs=-1, random_state=42)</pre><b>In a Jupyter environment, please rerun this cell to show the HTML representation or trust the notebook. <br />On GitHub, the HTML representation is unable to render, please try loading this page with nbviewer.org.</b></div><div class=\"sk-container\" hidden><div class=\"sk-item\"><div class=\"sk-estimator sk-toggleable\"><input class=\"sk-toggleable__control sk-hidden--visually\" id=\"sk-estimator-id-3\" type=\"checkbox\" checked><label for=\"sk-estimator-id-3\" class=\"sk-toggleable__label sk-toggleable__label-arrow\">KPrototypes</label><div class=\"sk-toggleable__content\"><pre>KPrototypes(gamma=0.5, init=&#x27;Huang&#x27;, max_iter=500, n_clusters=4, n_init=50,\n",
       "            n_jobs=-1, random_state=42)</pre></div></div></div></div></div>"
      ],
      "text/plain": [
       "KPrototypes(gamma=0.5, init='Huang', max_iter=500, n_clusters=4, n_init=50,\n",
       "            n_jobs=-1, random_state=42)"
      ]
     },
     "execution_count": 146,
     "metadata": {},
     "output_type": "execute_result"
    }
   ],
   "source": [
    "from kmodes.kprototypes import KPrototypes\n",
    "\n",
    "k = 4\n",
    "kprototypes = KPrototypes(n_clusters=k, max_iter=500, init='Huang', n_init=50,\n",
    "                          n_jobs=-1, random_state=42)\n",
    "\n",
    "kprototypes.fit(df_tr.to_numpy(), categorical=get_indexes(df_tr, cat_cols))"
   ]
  },
  {
   "cell_type": "code",
   "execution_count": 147,
   "id": "b065283c",
   "metadata": {
    "ExecuteTime": {
     "end_time": "2023-02-22T16:26:30.490012Z",
     "start_time": "2023-02-22T16:26:30.484769Z"
    }
   },
   "outputs": [],
   "source": [
    "labels = kprototypes.labels_"
   ]
  },
  {
   "cell_type": "code",
   "execution_count": 148,
   "id": "f2a88628",
   "metadata": {
    "ExecuteTime": {
     "end_time": "2023-02-22T16:26:30.563415Z",
     "start_time": "2023-02-22T16:26:30.558816Z"
    }
   },
   "outputs": [
    {
     "name": "stderr",
     "output_type": "stream",
     "text": [
      "/tmp/ipykernel_194262/3675639296.py:1: SettingWithCopyWarning: \n",
      "A value is trying to be set on a copy of a slice from a DataFrame.\n",
      "Try using .loc[row_indexer,col_indexer] = value instead\n",
      "\n",
      "See the caveats in the documentation: https://pandas.pydata.org/pandas-docs/stable/user_guide/indexing.html#returning-a-view-versus-a-copy\n",
      "  df_dropna['labels'] = labels\n"
     ]
    }
   ],
   "source": [
    "df_dropna['labels'] = labels"
   ]
  },
  {
   "cell_type": "code",
   "execution_count": 149,
   "id": "e5a1538e",
   "metadata": {
    "ExecuteTime": {
     "end_time": "2023-02-22T16:26:30.836668Z",
     "start_time": "2023-02-22T16:26:30.647920Z"
    }
   },
   "outputs": [
    {
     "data": {
      "image/png": "[encoded data removed]",
      "text/plain": [
       "<Figure size 300x300 with 1 Axes>"
      ]
     },
     "metadata": {},
     "output_type": "display_data"
    }
   ],
   "source": [
    "plt.figure(figsize=(3,3))\n",
    "sns.countplot(df_dropna, x='labels', );"
   ]
  },
  {
   "cell_type": "markdown",
   "id": "60926118",
   "metadata": {},
   "source": [
    "> Label 1 is the biggest cluster."
   ]
  },
  {
   "cell_type": "code",
   "execution_count": 150,
   "id": "8adfd56d",
   "metadata": {
    "ExecuteTime": {
     "end_time": "2023-02-22T16:26:30.927048Z",
     "start_time": "2023-02-22T16:26:30.914149Z"
    }
   },
   "outputs": [
    {
     "data": {
      "text/html": [
       "<div>\n",
       "<style scoped>\n",
       "    .dataframe tbody tr th:only-of-type {\n",
       "        vertical-align: middle;\n",
       "    }\n",
       "\n",
       "    .dataframe tbody tr th {\n",
       "        vertical-align: top;\n",
       "    }\n",
       "\n",
       "    .dataframe thead th {\n",
       "        text-align: right;\n",
       "    }\n",
       "</style>\n",
       "<table border=\"1\" class=\"dataframe\">\n",
       "  <thead>\n",
       "    <tr style=\"text-align: right;\">\n",
       "      <th></th>\n",
       "      <th>Age</th>\n",
       "      <th>Work_Experience</th>\n",
       "      <th>Family_Size</th>\n",
       "    </tr>\n",
       "    <tr>\n",
       "      <th>labels</th>\n",
       "      <th></th>\n",
       "      <th></th>\n",
       "      <th></th>\n",
       "    </tr>\n",
       "  </thead>\n",
       "  <tbody>\n",
       "    <tr>\n",
       "      <th>0</th>\n",
       "      <td>30.106032</td>\n",
       "      <td>1.455238</td>\n",
       "      <td>4.668571</td>\n",
       "    </tr>\n",
       "    <tr>\n",
       "      <th>1</th>\n",
       "      <td>37.860566</td>\n",
       "      <td>8.471314</td>\n",
       "      <td>2.402324</td>\n",
       "    </tr>\n",
       "    <tr>\n",
       "      <th>2</th>\n",
       "      <td>42.227431</td>\n",
       "      <td>0.989539</td>\n",
       "      <td>2.265014</td>\n",
       "    </tr>\n",
       "    <tr>\n",
       "      <th>3</th>\n",
       "      <td>70.764557</td>\n",
       "      <td>0.974684</td>\n",
       "      <td>2.180591</td>\n",
       "    </tr>\n",
       "  </tbody>\n",
       "</table>\n",
       "</div>"
      ],
      "text/plain": [
       "              Age  Work_Experience  Family_Size\n",
       "labels                                         \n",
       "0       30.106032         1.455238     4.668571\n",
       "1       37.860566         8.471314     2.402324\n",
       "2       42.227431         0.989539     2.265014\n",
       "3       70.764557         0.974684     2.180591"
      ]
     },
     "execution_count": 150,
     "metadata": {},
     "output_type": "execute_result"
    }
   ],
   "source": [
    "# Analysing mean of numerical features\n",
    "\n",
    "df_dropna[num_cols + ['labels']].groupby('labels').mean()"
   ]
  },
  {
   "cell_type": "code",
   "execution_count": 151,
   "id": "aa091d63",
   "metadata": {
    "ExecuteTime": {
     "end_time": "2023-02-22T16:26:31.023915Z",
     "start_time": "2023-02-22T16:26:31.008699Z"
    }
   },
   "outputs": [
    {
     "data": {
      "text/html": [
       "<div>\n",
       "<style scoped>\n",
       "    .dataframe tbody tr th:only-of-type {\n",
       "        vertical-align: middle;\n",
       "    }\n",
       "\n",
       "    .dataframe tbody tr th {\n",
       "        vertical-align: top;\n",
       "    }\n",
       "\n",
       "    .dataframe thead th {\n",
       "        text-align: right;\n",
       "    }\n",
       "</style>\n",
       "<table border=\"1\" class=\"dataframe\">\n",
       "  <thead>\n",
       "    <tr style=\"text-align: right;\">\n",
       "      <th></th>\n",
       "      <th>Age</th>\n",
       "      <th>Work_Experience</th>\n",
       "      <th>Family_Size</th>\n",
       "    </tr>\n",
       "    <tr>\n",
       "      <th>labels</th>\n",
       "      <th></th>\n",
       "      <th></th>\n",
       "      <th></th>\n",
       "    </tr>\n",
       "  </thead>\n",
       "  <tbody>\n",
       "    <tr>\n",
       "      <th>0</th>\n",
       "      <td>28.0</td>\n",
       "      <td>1.0</td>\n",
       "      <td>4.0</td>\n",
       "    </tr>\n",
       "    <tr>\n",
       "      <th>1</th>\n",
       "      <td>37.0</td>\n",
       "      <td>8.0</td>\n",
       "      <td>2.0</td>\n",
       "    </tr>\n",
       "    <tr>\n",
       "      <th>2</th>\n",
       "      <td>42.0</td>\n",
       "      <td>1.0</td>\n",
       "      <td>2.0</td>\n",
       "    </tr>\n",
       "    <tr>\n",
       "      <th>3</th>\n",
       "      <td>70.0</td>\n",
       "      <td>1.0</td>\n",
       "      <td>2.0</td>\n",
       "    </tr>\n",
       "  </tbody>\n",
       "</table>\n",
       "</div>"
      ],
      "text/plain": [
       "         Age  Work_Experience  Family_Size\n",
       "labels                                    \n",
       "0       28.0              1.0          4.0\n",
       "1       37.0              8.0          2.0\n",
       "2       42.0              1.0          2.0\n",
       "3       70.0              1.0          2.0"
      ]
     },
     "execution_count": 151,
     "metadata": {},
     "output_type": "execute_result"
    }
   ],
   "source": [
    "# Analysing medianb of numerical features\n",
    "df_dropna[num_cols + ['labels']].groupby('labels').median()"
   ]
  },
  {
   "cell_type": "code",
   "execution_count": 152,
   "id": "60ee469c",
   "metadata": {
    "ExecuteTime": {
     "end_time": "2023-02-22T16:26:31.118658Z",
     "start_time": "2023-02-22T16:26:31.102771Z"
    }
   },
   "outputs": [
    {
     "data": {
      "text/html": [
       "<div>\n",
       "<style scoped>\n",
       "    .dataframe tbody tr th:only-of-type {\n",
       "        vertical-align: middle;\n",
       "    }\n",
       "\n",
       "    .dataframe tbody tr th {\n",
       "        vertical-align: top;\n",
       "    }\n",
       "\n",
       "    .dataframe thead th {\n",
       "        text-align: right;\n",
       "    }\n",
       "</style>\n",
       "<table border=\"1\" class=\"dataframe\">\n",
       "  <thead>\n",
       "    <tr style=\"text-align: right;\">\n",
       "      <th></th>\n",
       "      <th>Age</th>\n",
       "      <th>Work_Experience</th>\n",
       "      <th>Family_Size</th>\n",
       "    </tr>\n",
       "    <tr>\n",
       "      <th>labels</th>\n",
       "      <th></th>\n",
       "      <th></th>\n",
       "      <th></th>\n",
       "    </tr>\n",
       "  </thead>\n",
       "  <tbody>\n",
       "    <tr>\n",
       "      <th>0</th>\n",
       "      <td>10.109606</td>\n",
       "      <td>2.057712</td>\n",
       "      <td>1.372954</td>\n",
       "    </tr>\n",
       "    <tr>\n",
       "      <th>1</th>\n",
       "      <td>10.303083</td>\n",
       "      <td>1.983419</td>\n",
       "      <td>1.223294</td>\n",
       "    </tr>\n",
       "    <tr>\n",
       "      <th>2</th>\n",
       "      <td>9.208471</td>\n",
       "      <td>1.199276</td>\n",
       "      <td>0.984518</td>\n",
       "    </tr>\n",
       "    <tr>\n",
       "      <th>3</th>\n",
       "      <td>8.934035</td>\n",
       "      <td>1.516029</td>\n",
       "      <td>0.990390</td>\n",
       "    </tr>\n",
       "  </tbody>\n",
       "</table>\n",
       "</div>"
      ],
      "text/plain": [
       "              Age  Work_Experience  Family_Size\n",
       "labels                                         \n",
       "0       10.109606         2.057712     1.372954\n",
       "1       10.303083         1.983419     1.223294\n",
       "2        9.208471         1.199276     0.984518\n",
       "3        8.934035         1.516029     0.990390"
      ]
     },
     "execution_count": 152,
     "metadata": {},
     "output_type": "execute_result"
    }
   ],
   "source": [
    "# Analysing standard deviation of numerical features\n",
    "df_dropna[num_cols + ['labels']].groupby('labels').std()"
   ]
  },
  {
   "cell_type": "code",
   "execution_count": 153,
   "id": "30cb4c89",
   "metadata": {
    "ExecuteTime": {
     "end_time": "2023-02-22T16:26:31.271887Z",
     "start_time": "2023-02-22T16:26:31.236393Z"
    }
   },
   "outputs": [
    {
     "data": {
      "text/html": [
       "<div>\n",
       "<style scoped>\n",
       "    .dataframe tbody tr th:only-of-type {\n",
       "        vertical-align: middle;\n",
       "    }\n",
       "\n",
       "    .dataframe tbody tr th {\n",
       "        vertical-align: top;\n",
       "    }\n",
       "\n",
       "    .dataframe thead th {\n",
       "        text-align: right;\n",
       "    }\n",
       "</style>\n",
       "<table border=\"1\" class=\"dataframe\">\n",
       "  <thead>\n",
       "    <tr style=\"text-align: right;\">\n",
       "      <th></th>\n",
       "      <th>Gender</th>\n",
       "      <th>Ever_Married</th>\n",
       "      <th>Graduated</th>\n",
       "      <th>Profession</th>\n",
       "      <th>Spending_Score</th>\n",
       "    </tr>\n",
       "    <tr>\n",
       "      <th>labels</th>\n",
       "      <th></th>\n",
       "      <th></th>\n",
       "      <th></th>\n",
       "      <th></th>\n",
       "      <th></th>\n",
       "    </tr>\n",
       "  </thead>\n",
       "  <tbody>\n",
       "    <tr>\n",
       "      <th>0</th>\n",
       "      <td>Male</td>\n",
       "      <td>No</td>\n",
       "      <td>No</td>\n",
       "      <td>Healthcare</td>\n",
       "      <td>Low</td>\n",
       "    </tr>\n",
       "    <tr>\n",
       "      <th>1</th>\n",
       "      <td>Female</td>\n",
       "      <td>Yes</td>\n",
       "      <td>Yes</td>\n",
       "      <td>Artist</td>\n",
       "      <td>Low</td>\n",
       "    </tr>\n",
       "    <tr>\n",
       "      <th>2</th>\n",
       "      <td>Male</td>\n",
       "      <td>Yes</td>\n",
       "      <td>Yes</td>\n",
       "      <td>Artist</td>\n",
       "      <td>Low</td>\n",
       "    </tr>\n",
       "    <tr>\n",
       "      <th>3</th>\n",
       "      <td>Male</td>\n",
       "      <td>Yes</td>\n",
       "      <td>Yes</td>\n",
       "      <td>Lawyer</td>\n",
       "      <td>High</td>\n",
       "    </tr>\n",
       "  </tbody>\n",
       "</table>\n",
       "</div>"
      ],
      "text/plain": [
       "        Gender Ever_Married Graduated  Profession Spending_Score\n",
       "labels                                                          \n",
       "0         Male           No        No  Healthcare            Low\n",
       "1       Female          Yes       Yes      Artist            Low\n",
       "2         Male          Yes       Yes      Artist            Low\n",
       "3         Male          Yes       Yes      Lawyer           High"
      ]
     },
     "execution_count": 153,
     "metadata": {},
     "output_type": "execute_result"
    }
   ],
   "source": [
    "# Table with modes for the categorical features\n",
    "\n",
    "df_dropna[cat_cols + ['labels']].groupby('labels').agg(lambda x: pd.Series.mode(x))"
   ]
  },
  {
   "cell_type": "code",
   "execution_count": 136,
   "id": "e5781ff9",
   "metadata": {
    "ExecuteTime": {
     "end_time": "2023-02-22T16:16:19.866455Z",
     "start_time": "2023-02-22T16:16:19.336371Z"
    },
    "scrolled": false
   },
   "outputs": [
    {
     "data": {
      "image/png": "[encoded data removed]",
      "text/plain": [
       "<Figure size 1200x300 with 3 Axes>"
      ]
     },
     "metadata": {},
     "output_type": "display_data"
    }
   ],
   "source": [
    "plt.figure(figsize=(12,3))\n",
    "\n",
    "plt.subplot(1,3,1)\n",
    "sns.countplot(df_dropna[df_dropna['labels'] == 0], x='Gender', order=['Male', 'Female'])\n",
    "plt.title('Label 0')\n",
    "\n",
    "plt.subplot(1,3,2)\n",
    "sns.countplot(df_dropna[df_dropna['labels'] == 1], x='Gender', order=['Male', 'Female'])\n",
    "plt.title('Label 1')\n",
    "\n",
    "plt.subplot(1,3,3)\n",
    "sns.countplot(df_dropna[df_dropna['labels'] == 2], x='Gender', order=['Male', 'Female'])\n",
    "plt.title('Label 2')\n",
    "\n",
    "plt.show()"
   ]
  },
  {
   "cell_type": "markdown",
   "id": "d86f0706",
   "metadata": {},
   "source": [
    "> Somewhat simillar distribution. Label 0 and 1 are majority masculine."
   ]
  },
  {
   "cell_type": "code",
   "execution_count": 137,
   "id": "8ee41bb8",
   "metadata": {
    "ExecuteTime": {
     "end_time": "2023-02-22T16:16:20.463926Z",
     "start_time": "2023-02-22T16:16:19.956537Z"
    },
    "scrolled": false
   },
   "outputs": [
    {
     "data": {
      "image/png": "[encoded data removed]",
      "text/plain": [
       "<Figure size 1200x300 with 3 Axes>"
      ]
     },
     "metadata": {},
     "output_type": "display_data"
    }
   ],
   "source": [
    "plt.figure(figsize=(12,3))\n",
    "\n",
    "plt.subplot(1,3,1)\n",
    "sns.countplot(df_dropna[df_dropna['labels'] == 0], x='Ever_Married', order=['Yes', 'No'])\n",
    "plt.title('Label 0')\n",
    "\n",
    "plt.subplot(1,3,2)\n",
    "sns.countplot(df_dropna[df_dropna['labels'] == 1], x='Ever_Married', order=['Yes', 'No'])\n",
    "plt.title('Label 1')\n",
    "\n",
    "plt.subplot(1,3,3)\n",
    "sns.countplot(df_dropna[df_dropna['labels'] == 2], x='Ever_Married', order=['Yes', 'No'])\n",
    "plt.title('Label 2')\n",
    "\n",
    "plt.show()"
   ]
  },
  {
   "cell_type": "markdown",
   "id": "46e2245e",
   "metadata": {},
   "source": [
    "> Label 0 contains most of the never married."
   ]
  },
  {
   "cell_type": "code",
   "execution_count": null,
   "id": "3b3fe201",
   "metadata": {},
   "outputs": [],
   "source": [
    "plt.figure(figsize=(12,3))\n",
    "\n",
    "plt.subplot(1,3,1)\n",
    "sns.countplot(df_dropna[df_dropna['labels'] == 0], x='Spending_Score', order=['Low', 'Average', 'High'])\n",
    "plt.title('Label 0')\n",
    "\n",
    "plt.subplot(1,3,2)\n",
    "sns.countplot(df_dropna[df_dropna['labels'] == 1], x='Spending_Score', order=['Low', 'Average', 'High'])\n",
    "plt.title('Label 1')\n",
    "\n",
    "plt.subplot(1,3,3)\n",
    "sns.countplot(df_dropna[df_dropna['labels'] == 2], x='Spending_Score', order=['Low', 'Average', 'High'])\n",
    "plt.title('Label 2')\n",
    "\n",
    "plt.show()"
   ]
  },
  {
   "cell_type": "code",
   "execution_count": null,
   "id": "1173d901",
   "metadata": {},
   "outputs": [],
   "source": []
  },
  {
   "cell_type": "code",
   "execution_count": 138,
   "id": "b7d51897",
   "metadata": {
    "ExecuteTime": {
     "end_time": "2023-02-22T16:16:21.114371Z",
     "start_time": "2023-02-22T16:16:20.552431Z"
    },
    "scrolled": false
   },
   "outputs": [
    {
     "data": {
      "image/png": "[encoded data removed]",
      "text/plain": [
       "<Figure size 640x480 with 1 Axes>"
      ]
     },
     "metadata": {},
     "output_type": "display_data"
    }
   ],
   "source": [
    "sns.histplot(df_dropna, x='Age', hue='labels', palette=['r', 'g', 'b']);"
   ]
  },
  {
   "cell_type": "code",
   "execution_count": null,
   "id": "14660c6d",
   "metadata": {},
   "outputs": [],
   "source": [
    "sns.histplot(df_dropna, x='Work_Experience', hue='labels', palette=['r', 'g', 'b']);"
   ]
  },
  {
   "cell_type": "code",
   "execution_count": null,
   "id": "960570bd",
   "metadata": {},
   "outputs": [],
   "source": [
    "sns.histplot(df_dropna, x='Family_Size', hue='labels', palette=['r', 'g', 'b']);"
   ]
  },
  {
   "cell_type": "code",
   "execution_count": 98,
   "id": "c335ab79",
   "metadata": {
    "ExecuteTime": {
     "end_time": "2023-02-22T15:45:19.628187Z",
     "start_time": "2023-02-22T15:45:19.621437Z"
    }
   },
   "outputs": [
    {
     "data": {
      "text/plain": [
       "Index(['Gender', 'Ever_Married', 'Age', 'Graduated', 'Profession',\n",
       "       'Work_Experience', 'Spending_Score', 'Family_Size', 'labels'],\n",
       "      dtype='object')"
      ]
     },
     "execution_count": 98,
     "metadata": {},
     "output_type": "execute_result"
    }
   ],
   "source": [
    "df_dropna.columns"
   ]
  },
  {
   "cell_type": "markdown",
   "id": "f1b09a4d",
   "metadata": {},
   "source": [
    "# Conclusions"
   ]
  },
  {
   "cell_type": "code",
   "execution_count": null,
   "id": "205479b8",
   "metadata": {},
   "outputs": [],
   "source": []
  }
 ],
 "metadata": {
  "kernelspec": {
   "display_name": ".venv",
   "language": "python",
   "name": ".venv"
  },
  "language_info": {
   "codemirror_mode": {
    "name": "ipython",
    "version": 3
   },
   "file_extension": ".py",
   "mimetype": "text/x-python",
   "name": "python",
   "nbconvert_exporter": "python",
   "pygments_lexer": "ipython3",
   "version": "3.11.0"
  },
  "varInspector": {
   "cols": {
    "lenName": 16,
    "lenType": 16,
    "lenVar": 40
   },
   "kernels_config": {
    "python": {
     "delete_cmd_postfix": "",
     "delete_cmd_prefix": "del ",
     "library": "var_list.py",
     "varRefreshCmd": "print(var_dic_list())"
    },
    "r": {
     "delete_cmd_postfix": ") ",
     "delete_cmd_prefix": "rm(",
     "library": "var_list.r",
     "varRefreshCmd": "cat(var_dic_list()) "
    }
   },
   "types_to_exclude": [
    "module",
    "function",
    "builtin_function_or_method",
    "instance",
    "_Feature"
   ],
   "window_display": false
  }
 },
 "nbformat": 4,
 "nbformat_minor": 5
}
